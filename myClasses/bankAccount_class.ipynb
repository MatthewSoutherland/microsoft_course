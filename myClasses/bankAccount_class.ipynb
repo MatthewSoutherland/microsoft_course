{
 "cells": [
  {
   "attachments": {},
   "cell_type": "markdown",
   "metadata": {},
   "source": [
    "# Bank Account Class"
   ]
  },
  {
   "cell_type": "code",
   "execution_count": 2,
   "metadata": {
    "dotnet_interactive": {
     "language": "csharp"
    },
    "polyglot_notebook": {
     "kernelName": "csharp"
    },
    "vscode": {
     "languageId": "polyglot-notebook"
    }
   },
   "outputs": [
    {
     "ename": "Error",
     "evalue": "(18,18): error CS0246: The type or namespace name 'Transaction' could not be found (are you missing a using directive or an assembly reference?)\r\n(18,58): error CS0246: The type or namespace name 'Transaction' could not be found (are you missing a using directive or an assembly reference?)",
     "output_type": "error",
     "traceback": [
      "(18,18): error CS0246: The type or namespace name 'Transaction' could not be found (are you missing a using directive or an assembly reference?)\r\n",
      "(18,58): error CS0246: The type or namespace name 'Transaction' could not be found (are you missing a using directive or an assembly reference?)"
     ]
    }
   ],
   "source": [
    "public class BankAccount\n",
    "{\n",
    "    public string Number {get;}\n",
    "    public string Owner {get; set;}\n",
    "    public decimal Balance \n",
    "    {\n",
    "        get \n",
    "        {\n",
    "            decimal balance = 0;\n",
    "            foreach (var item in allTransaction)\n",
    "            {\n",
    "                balance += item.Amount;\n",
    "            }\n",
    "            return balance;\n",
    "        }\n",
    "    }\n",
    "    public static int BankAccountSeed = 123456;\n",
    "    private List<Transaction> allTransaction = new List<Transaction>();\n",
    "\n",
    "    public BankAccount (string name, decimal initialBalance)\n",
    "    {\n",
    "        this.Owner = name;\n",
    "        MakeDeposit(initialBalance, DateTime.Now, \"InitialBalance\");\n",
    "        this.Number = BankAccountSeed.ToString();\n",
    "        BankAccountSeed++;\n",
    "    }\n",
    "\n",
    "    public void MakeDeposit(decimal amount, DateTime date, string note)\n",
    "    {\n",
    "        if (amount <= 0)\n",
    "        {\n",
    "            throw new ArgumentOutOfRangeException(\"Amount of deposit must be positive\");\n",
    "        }\n",
    "        var deposit = new Transaction(amount, date, note);\n",
    "        allTransaction.Add(deposit);\n",
    "    }\n",
    "\n",
    "    public void MakeWithDrawal(decimal amount, DateTime date, string note)\n",
    "    {\n",
    "        if (amount <= 0)\n",
    "        {\n",
    "            throw new ArgumentOutOfRangeException(nameof(amount), \"Amount of withdrawal must be positive\");\n",
    "        }\n",
    "        if (Balance - amount < 0)\n",
    "        {\n",
    "            throw new InvalidOperationException(\"Not sufficient funds for this withdrawal\");\n",
    "        }\n",
    "        var withdrawal = new Transaction(-amount, date, note);\n",
    "        allTransaction.Add(withdrawal);\n",
    "    }\n",
    "\n",
    "    public string GetAccountHistory()\n",
    "    {\n",
    "        var report = new StringBuilder();\n",
    "\n",
    "        // table header\n",
    "        report.AppendLine(\"Date\\t\\tAmount\\t\\tNote\");\n",
    "        foreach (var item in allTransaction)\n",
    "        {\n",
    "            report.AppendLine($\"{item.Date.ToShortDateString()}\\t{item.Amount}\\t\\t{item.Notes}\");\n",
    "        }\n",
    "        report.AppendLine($\"\\nRemaining balance: {Balance}\");\n",
    "        return report.ToString();\n",
    "    }\n",
    "}\n",
    "\n",
    "public class Transaction\n",
    "    {\n",
    "        public decimal Amount { get; }\n",
    "        public DateTime Date { get; }\n",
    "        public string Notes { get; }\n",
    "\n",
    "        public Transaction(decimal amount, DateTime date, string note)\n",
    "        {\n",
    "            this.Amount = amount;\n",
    "            this.Date = date;\n",
    "            this.Notes = note;\n",
    "        }\n",
    "    }"
   ]
  }
 ],
 "metadata": {
  "language_info": {
   "name": "python"
  },
  "orig_nbformat": 4
 },
 "nbformat": 4,
 "nbformat_minor": 2
}
