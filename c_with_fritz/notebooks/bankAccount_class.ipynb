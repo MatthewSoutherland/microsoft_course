{
 "cells": [
  {
   "attachments": {},
   "cell_type": "markdown",
   "metadata": {},
   "source": [
    "# Bank Account Class"
   ]
  },
  {
   "cell_type": "code",
   "execution_count": 10,
   "metadata": {
    "dotnet_interactive": {
     "language": "csharp"
    },
    "polyglot_notebook": {
     "kernelName": "csharp"
    },
    "vscode": {
     "languageId": "polyglot-notebook"
    }
   },
   "outputs": [],
   "source": [
    "public class BankAccount\n",
    "{\n",
    "    public string Number {get;}\n",
    "    public string Owner {get; set;}\n",
    "    public decimal Balance \n",
    "    {\n",
    "        get \n",
    "        {\n",
    "            decimal balance = 0;\n",
    "            foreach (var item in allTransaction)\n",
    "            {\n",
    "                balance += item.Amount;\n",
    "            }\n",
    "            return balance;\n",
    "        }\n",
    "    }\n",
    "    public static int BankAccountSeed = 123456;\n",
    "    private List<Transaction> allTransaction = new List<Transaction>();\n",
    "\n",
    "    public BankAccount (string name, decimal initialBalance)\n",
    "    {\n",
    "        this.Owner = name;\n",
    "        MakeDeposit(initialBalance, DateTime.Now, \"InitialBalance\");\n",
    "        this.Number = BankAccountSeed.ToString();\n",
    "        BankAccountSeed++;\n",
    "    }\n",
    "\n",
    "    public void MakeDeposit(decimal amount, DateTime date, string note)\n",
    "    {\n",
    "        if (amount <= 0)\n",
    "        {\n",
    "            throw new ArgumentOutOfRangeException(\"Amount of deposit must be positive\");\n",
    "        }\n",
    "        var deposit = new Transaction(amount, date, note);\n",
    "        allTransaction.Add(deposit);\n",
    "    }\n",
    "\n",
    "    public void MakeWithDrawal(decimal amount, DateTime date, string note)\n",
    "    {\n",
    "        if (amount <= 0)\n",
    "        {\n",
    "            throw new ArgumentOutOfRangeException(nameof(amount), \"Amount of withdrawal must be positive\");\n",
    "        }\n",
    "        if (Balance - amount < 0)\n",
    "        {\n",
    "            throw new InvalidOperationException(\"Not sufficient funds for this withdrawal\");\n",
    "        }\n",
    "        var withdrawal = new Transaction(-amount, date, note);\n",
    "        allTransaction.Add(withdrawal);\n",
    "    }\n",
    "\n",
    "    public string GetAccountHistory()\n",
    "    {\n",
    "        var report = new StringBuilder();\n",
    "\n",
    "        // table header\n",
    "        report.AppendLine(\"Date\\t\\tAmount\\t\\tNote\");\n",
    "        foreach (var item in allTransaction)\n",
    "        {\n",
    "            report.AppendLine($\"{item.Date.ToShortDateString()}\\t{item.Amount}\\t\\t{item.Notes}\");\n",
    "        }\n",
    "        report.AppendLine($\"\\nRemaining balance: {Balance}\");\n",
    "        return report.ToString();\n",
    "    }\n",
    "}\n",
    "\n",
    "public class Transaction\n",
    "    {\n",
    "        public decimal Amount { get; }\n",
    "        public DateTime Date { get; }\n",
    "        public string Notes { get; }\n",
    "\n",
    "        public Transaction(decimal amount, DateTime date, string note)\n",
    "        {\n",
    "            this.Amount = amount;\n",
    "            this.Date = date;\n",
    "            this.Notes = note;\n",
    "        }\n",
    "    }"
   ]
  },
  {
   "cell_type": "code",
   "execution_count": 17,
   "metadata": {
    "dotnet_interactive": {
     "language": "csharp"
    },
    "polyglot_notebook": {
     "kernelName": "csharp"
    },
    "vscode": {
     "languageId": "polyglot-notebook"
    }
   },
   "outputs": [
    {
     "name": "stdout",
     "output_type": "stream",
     "text": [
      "Account 123458 was created for Matt with a balance of 5000.00\n",
      "Date\t\tAmount\t\tNote\n",
      "4/3/2023\t5000.00\t\tInitialBalance\n",
      "4/3/2023\t-120\t\tHammock\n",
      "4/3/2023\t150\t\tDeposit\n",
      "4/3/2023\t-200\t\tProstitute\n",
      "\n",
      "Remaining balance: 4830.00\n",
      "\n"
     ]
    }
   ],
   "source": [
    "\n",
    "            // Create a new BankAccount object and assign it to the variable name `account`\n",
    "            var account = new BankAccount(\"Matt\", 5000.00m);\n",
    "\n",
    "            Console.WriteLine($\"Account {account.Number} was created for {account.Owner} with a balance of {account.Balance}\");\n",
    "\n",
    "            account.MakeWithDrawal(120, DateTime.Now, \"Hammock\");\n",
    "\n",
    "            account.MakeDeposit(150, DateTime.Now, \"Deposit\");\n",
    "\n",
    "            account.MakeWithDrawal(200, DateTime.Now, \"Prostitute\");\n",
    "\n",
    "            Console.WriteLine(account.GetAccountHistory());\n",
    "            "
   ]
  },
  {
   "cell_type": "code",
   "execution_count": 18,
   "metadata": {
    "dotnet_interactive": {
     "language": "csharp"
    },
    "polyglot_notebook": {
     "kernelName": "csharp"
    },
    "vscode": {
     "languageId": "polyglot-notebook"
    }
   },
   "outputs": [
    {
     "name": "stdout",
     "output_type": "stream",
     "text": [
      "Date\t\tAmount\t\tNote\r\n",
      "4/3/2023\t500\t\tInitialBalance\r\n",
      "4/3/2023\t-100\t\tpornhub\r\n",
      "\n",
      "Remaining balance: 400\r\n",
      "\r\n"
     ]
    }
   ],
   "source": [
    "var jimAccount = new BankAccount(\"Jim\", 500);\n",
    "jimAccount.MakeWithDrawal(100, DateTime.Now, \"pornhub\");\n",
    "Console.WriteLine(jimAccount.GetAccountHistory());"
   ]
  },
  {
   "attachments": {},
   "cell_type": "markdown",
   "metadata": {},
   "source": [
    "## class keyword\n",
    "The `class` keyword is used to create the most common type, a reference type, that you can create and interact with using C#.  As a reference type, every instance of your classes will be stored on the memory heap."
   ]
  },
  {
   "attachments": {},
   "cell_type": "markdown",
   "metadata": {},
   "source": [
    "By default, classes are `internal` in scope - meaning that they can only be interacted with by other classes in the same library or program.  You can explicitly use the `internal` keyword before the `class` keyword to ensure that your class declaration is internal in scope.\n",
    "\n",
    "Classes are typically written into their own files, one class per file, with the filename matching the name of the class inside.\n",
    "\n",
    "Classes can also be made `public`, allowing access from outside the library or program that they are compiled with."
   ]
  },
  {
   "attachments": {},
   "cell_type": "markdown",
   "metadata": {},
   "source": [
    "### Adding packages/libraries inside vsCode"
   ]
  },
  {
   "attachments": {},
   "cell_type": "markdown",
   "metadata": {},
   "source": [
    "\n",
    "#### Adding a reference to a DLL:\n",
    "\n",
    "* Open the .csproj file of your project in VSCode. This file contains the project's settings and references.\n",
    "* Inside the \\<ItemGroup\\> element, add a new \\<Reference\\> element with the Include attribute set to the path of the DLL file. For example:<br><br>\n",
    "\\<<span style=\"color:lightblue;\">ItemGroup</span>\\><br>\n",
    "&emsp; \\<<span style=\"color:lightgreen;\">Reference</span> Include=<span style=\"color:orange\">\"path/to/your/library.dll\"</span>/\\><br>\n",
    "\\</<span style=\"color:lightblue;\">ItemGroup</span>\\><br>\n",
    "\n",
    "* Save the .csproj file, and the reference to the DLL will be added to your project.<br><br>\n",
    "\n",
    "#### Adding a NuGet package:\n",
    "\n",
    "* To add a NuGet package in VSCode, you can use the .NET Core CLI. Open the integrated terminal in VSCode (View > Terminal).\n",
    "* Navigate to the folder containing your project's .csproj file using the cd command.\n",
    "* Run the following command, replacing PackageName with the name of the package you want to add:<br>\n",
    "dotnet <span style=\"color:blue\">add</span> package \\<PackageName\\><br>\n",
    "* This will automatically add the NuGet package reference to your .csproj file and download the required files.<br><br>\n",
    "\n",
    "#### Adding a project reference:\n",
    "\n",
    "* If you have a separate library project within your workspace, you can add a reference\n",
    "\n"
   ]
  },
  {
   "attachments": {},
   "cell_type": "markdown",
   "metadata": {},
   "source": [
    "## Inside the class, you can declare and add features like:\n",
    "- **Constructors:** A method that is used to create an instance of the class\n",
    "- **Finalizers:** A method that is called when the class is cleaned up by the garbage collector\n",
    "- **Fields:** A variable owned by the class and typically used in `private` or `protected` scope, `private` by default when no access modeifier is used\n",
    "- **Constants:** Values defined at compile time that never change for the life of the program\n",
    "- **Properties:** A flexible mechanism that allows interaction with values stored in a class\n",
    "- **Methods:** An action-taking code block that contains multiple statements, can accept parameters, and can return values\n",
    "- **Events:** An interaction point that allows for notification of other classes when something of interest occurs\n",
    "- **Delegates:** A type that can reference a method based on matching parameters and return types \n",
    "- **Operators:** Defines how the class interacts with the various built-in .NET/C# operators "
   ]
  },
  {
   "cell_type": "code",
   "execution_count": null,
   "metadata": {
    "dotnet_interactive": {
     "language": "csharp"
    },
    "polyglot_notebook": {
     "kernelName": "csharp"
    },
    "vscode": {
     "languageId": "polyglot-notebook"
    }
   },
   "outputs": [],
   "source": [
    "// publicly accessible properties\n",
    "public string Number {get;}\n",
    "public string Owner {get; set;}\n",
    "public decimal Balance \n",
    "{\n",
    "    get \n",
    "    {\n",
    "        decimal balance = 0;\n",
    "        foreach (var item in allTransaction)\n",
    "        {\n",
    "            balance += item.Amount;\n",
    "        }\n",
    "        return balance;\n",
    "    }\n",
    "}"
   ]
  },
  {
   "attachments": {},
   "cell_type": "markdown",
   "metadata": {},
   "source": [
    "### Constructors\n",
    "A constructor is a special method in a class that gets called when you create a new instance of the class. Constructors are used to set up the initial state of an object or to perform any required initialization tasks. In C#, constructors have the same name as the class and don't have a return type.<br>\n",
    "Here are some key points about constructors:<br>\n",
    "- **Initialization**: Constructors are designed to set the initial state of an object, such as assigning default values to properties or setting up internal data structures.\n",
    "\n",
    "- **Overloading**: You can have multiple constructors in a class with different parameter lists. This is known as constructor overloading. When creating an instance of the class, the appropriate constructor is called based on the arguments passed.\n",
    "\n",
    "- **Default constructor**: If you don't define any constructor in a class, the compiler automatically generates a default constructor with no parameters. The default constructor initializes all fields to their default values (e.g., null for reference types, 0 for numeric types, and false for the bool type).\n",
    "\n",
    "- **Inheritance**: When you create an instance of a derived class, the constructor of the base class is called before the derived class's constructor. If you don't explicitly call a base class constructor, the default constructor (without parameters) will be called automatically. You can use the base keyword to call a specific base class constructor.\n"
   ]
  },
  {
   "cell_type": "markdown",
   "metadata": {},
   "source": [
    "### Properties\n",
    "In C#, properties are members of a class that provide a flexible and convenient way to read, write, or compute the value of a private field. Properties can be thought of as a combination of variables and methods (getters and setters). They are used to encapsulate the internal state of an object and provide controlled access to its data.\n",
    "\n",
    "A property has two accessors: get and set. The get accessor is used to read the property value, while the set accessor is used to modify the property value. You can define one or both accessors for a property, depending on whether you want it to be read-only, write-only, or read-write."
   ]
  },
  {
   "attachments": {},
   "cell_type": "markdown",
   "metadata": {},
   "source": [
    "### Fields\n",
    "Fields are variables declared within a class or struct and represent the state or data of an object. Fields store the information that an object needs to perform its tasks or maintain its state. They are usually marked as private or protected to encapsulate the internal state of an object and prevent unauthorized access or modification.<br>\n",
    "Here are some key points about fields in C#:<br>\n",
    "- Fields can have access modifiers like public, private, protected, or internal to control their visibility and accessibility.\n",
    "- Fields can be marked as readonly, which means they can only be assigned a value during declaration or within the constructor. Once - assigned, their value cannot be changed.\n",
    "- Fields can be marked as const, which means they are compile-time constants, and their values cannot be changed after being assigned during declaration. const fields must be initialized at the time of declaration and are implicitly static.\n",
    "- Fields can be marked as static, which means they belong to the class itself, rather than an instance of the class. There is only one copy of a static field, shared among all instances of the class."
   ]
  }
 ],
 "metadata": {
  "language_info": {
   "name": "python"
  },
  "orig_nbformat": 4
 },
 "nbformat": 4,
 "nbformat_minor": 2
}
